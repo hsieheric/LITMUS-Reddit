{
 "cells": [
  {
   "cell_type": "code",
   "execution_count": 1,
   "metadata": {},
   "outputs": [
    {
     "name": "stdout",
     "output_type": "stream",
     "text": [
      "['post_data.csv', 'post_data_full.csv', '.DS_Store', 'data_collect.py', 'Applying Kaggle Spam Detection Model to Our Data.ipynb', 'data_mining.ipynb', 'wc_misinf.png', 'README.md', 'enterprise_app', 'Covid_Classification.ipynb', '.ipynb_checkpoints', '.git', 'post_data_source.csv', 'saved_model.h5', 'wc_inf.png']\n"
     ]
    }
   ],
   "source": [
    "import numpy as np # linear algebra\n",
    "import pandas as pd # data processing, CSV file I/O (e.g. pd.read_csv)\n",
    "import os\n",
    "print(os.listdir(\".\"))"
   ]
  },
  {
   "cell_type": "code",
   "execution_count": 2,
   "metadata": {},
   "outputs": [
    {
     "name": "stderr",
     "output_type": "stream",
     "text": [
      "Using TensorFlow backend.\n"
     ]
    }
   ],
   "source": [
    "from sklearn.feature_extraction.text import CountVectorizer\n",
    "from sklearn.preprocessing import LabelEncoder\n",
    "from sklearn.model_selection import train_test_split\n",
    "from sklearn.naive_bayes import MultinomialNB\n",
    "import re\n",
    "import tensorflow as tf\n",
    "from keras.models import Sequential\n",
    "from keras.layers import Dense, LSTM, Dropout, Embedding, Flatten, SimpleRNN, GRU"
   ]
  },
  {
   "cell_type": "code",
   "execution_count": 3,
   "metadata": {},
   "outputs": [],
   "source": [
    "data = pd.read_csv(\"post_data_full.csv\")"
   ]
  },
  {
   "cell_type": "code",
   "execution_count": 4,
   "metadata": {},
   "outputs": [],
   "source": [
    "#Drop unnecessary columns \n",
    "data = data.drop(columns=['url', 'subreddit', 'score', 'permalink','Source'])"
   ]
  },
  {
   "cell_type": "code",
   "execution_count": 5,
   "metadata": {},
   "outputs": [
    {
     "data": {
      "text/html": [
       "<div>\n",
       "<style scoped>\n",
       "    .dataframe tbody tr th:only-of-type {\n",
       "        vertical-align: middle;\n",
       "    }\n",
       "\n",
       "    .dataframe tbody tr th {\n",
       "        vertical-align: top;\n",
       "    }\n",
       "\n",
       "    .dataframe thead th {\n",
       "        text-align: right;\n",
       "    }\n",
       "</style>\n",
       "<table border=\"1\" class=\"dataframe\">\n",
       "  <thead>\n",
       "    <tr style=\"text-align: right;\">\n",
       "      <th></th>\n",
       "      <th>class</th>\n",
       "      <th>title</th>\n",
       "    </tr>\n",
       "  </thead>\n",
       "  <tbody>\n",
       "    <tr>\n",
       "      <th>0</th>\n",
       "      <td>1</td>\n",
       "      <td>COVID-19: Cases of vaccine-resistant variant m...</td>\n",
       "    </tr>\n",
       "    <tr>\n",
       "      <th>1</th>\n",
       "      <td>1</td>\n",
       "      <td>Should A COVID Vaccine Be Part Of The Back-To-...</td>\n",
       "    </tr>\n",
       "    <tr>\n",
       "      <th>2</th>\n",
       "      <td>1</td>\n",
       "      <td>UK hits 30 million first vaccine doses - 57% o...</td>\n",
       "    </tr>\n",
       "    <tr>\n",
       "      <th>3</th>\n",
       "      <td>1</td>\n",
       "      <td>EU medical regulator says AstraZeneca COVID va...</td>\n",
       "    </tr>\n",
       "    <tr>\n",
       "      <th>4</th>\n",
       "      <td>1</td>\n",
       "      <td>Moderna begins testing next-generation coronav...</td>\n",
       "    </tr>\n",
       "  </tbody>\n",
       "</table>\n",
       "</div>"
      ],
      "text/plain": [
       "   class                                              title\n",
       "0      1  COVID-19: Cases of vaccine-resistant variant m...\n",
       "1      1  Should A COVID Vaccine Be Part Of The Back-To-...\n",
       "2      1  UK hits 30 million first vaccine doses - 57% o...\n",
       "3      1  EU medical regulator says AstraZeneca COVID va...\n",
       "4      1  Moderna begins testing next-generation coronav..."
      ]
     },
     "execution_count": 5,
     "metadata": {},
     "output_type": "execute_result"
    }
   ],
   "source": [
    "data.head()"
   ]
  },
  {
   "cell_type": "code",
   "execution_count": 6,
   "metadata": {},
   "outputs": [],
   "source": [
    "def normalize_text(s):\n",
    "    s = s.lower()\n",
    "    # remove punctuation that is not word-internal (e.g., hyphens, apostrophes)\n",
    "    s = re.sub('\\s\\W',' ',s)\n",
    "    s = re.sub('\\W\\s',' ',s)\n",
    "    # make sure we didn't introduce any double spaces\n",
    "    s = re.sub('\\s+',' ',s)\n",
    "    return s"
   ]
  },
  {
   "cell_type": "code",
   "execution_count": 7,
   "metadata": {},
   "outputs": [],
   "source": [
    "# Normalize Titles\n",
    "data['text'] = [normalize_text(s) for s in data['title']]"
   ]
  },
  {
   "cell_type": "code",
   "execution_count": 8,
   "metadata": {},
   "outputs": [],
   "source": [
    "sentences_train, sentences_test, classes_train, classes_test = train_test_split(\n",
    "    data['text'], data['class'], test_size=0.2, random_state=1000)"
   ]
  },
  {
   "cell_type": "code",
   "execution_count": 26,
   "metadata": {},
   "outputs": [
    {
     "data": {
      "text/plain": [
       "pandas.core.series.Series"
      ]
     },
     "execution_count": 26,
     "metadata": {},
     "output_type": "execute_result"
    }
   ],
   "source": []
  },
  {
   "cell_type": "code",
   "execution_count": 24,
   "metadata": {},
   "outputs": [
    {
     "data": {
      "text/plain": [
       "pandas.core.series.Series"
      ]
     },
     "execution_count": 24,
     "metadata": {},
     "output_type": "execute_result"
    }
   ],
   "source": [
    "teststr = 'Falling through cracks: Vaccine bypasses some older adults'\n",
    "teststr = pd.Series(normalize_text(teststr))\n",
    "type(teststr)"
   ]
  },
  {
   "cell_type": "code",
   "execution_count": 10,
   "metadata": {},
   "outputs": [],
   "source": [
    "# Mildly unnecessary\n",
    "\n",
    "vectorizer = CountVectorizer()\n",
    "vectorizer.fit(sentences_train)\n",
    "x_train = vectorizer.transform(sentences_train)\n",
    "x_test = vectorizer.transform(sentences_test)\n",
    "\n",
    "encoder = LabelEncoder()\n",
    "encoder.fit(classes_train)\n",
    "y_train = encoder.transform(classes_train)\n",
    "y_test = encoder.transform(classes_test)\n",
    "# split into train and test sets\n",
    "# x_train, x_test, y_train, y_test = train_test_split(x, y, test_size=0.2)"
   ]
  },
  {
   "cell_type": "code",
   "execution_count": 12,
   "metadata": {},
   "outputs": [
    {
     "data": {
      "text/plain": [
       "0.8940269749518305"
      ]
     },
     "execution_count": 12,
     "metadata": {},
     "output_type": "execute_result"
    }
   ],
   "source": [
    "# Multinomial Naive Bayes\n",
    "nb = MultinomialNB()\n",
    "nb.fit(x_train, classes_train)\n",
    "nb.score(x_test, classes_test)"
   ]
  },
  {
   "cell_type": "code",
   "execution_count": 29,
   "metadata": {},
   "outputs": [
    {
     "name": "stdout",
     "output_type": "stream",
     "text": [
      "should a covid vaccine be part of the back-to-school routine for college and university students and staff?\n",
      "[5, 24, 25, 12, 1085, 17, 2067, 6, 234, 6, 1, 14, 5, 98, 287]\n"
     ]
    }
   ],
   "source": [
    "# VOCAB_SIZE = 1000\n",
    "# encoder = tf.keras.layers.experimental.preprocessing.TextVectorization(\n",
    "#     max_tokens=VOCAB_SIZE)\n",
    "# encoder.adapt(train_dataset.map(lambda text, label: text))\n",
    "\n",
    "from keras.preprocessing.text import Tokenizer\n",
    "from keras.preprocessing.sequence import pad_sequences\n",
    "\n",
    "tokenizer = Tokenizer(num_words=5000)\n",
    "tokenizer.fit_on_texts(sentences_train)\n",
    "\n",
    "x_train_tok = tokenizer.texts_to_sequences(sentences_train)\n",
    "x_test_tok = tokenizer.texts_to_sequences(sentences_test)\n",
    "\n",
    "test_tok = tokenizer.texts_to_sequences(teststr)\n",
    "vocab_size = len(tokenizer.word_index) + 1\n",
    "\n",
    "print(sentences_train[1])\n",
    "print(x_train_tok[1])\n",
    "\n",
    "maxlen = 50\n",
    "x_train_tok = pad_sequences(x_train_tok, padding='post', maxlen=maxlen)\n",
    "x_test_tok = pad_sequences(x_test_tok, padding='post', maxlen=maxlen)\n",
    "test_tok = pad_sequences(test_tok, padding='post', maxlen=maxlen)\n"
   ]
  },
  {
   "cell_type": "code",
   "execution_count": 15,
   "metadata": {},
   "outputs": [
    {
     "name": "stdout",
     "output_type": "stream",
     "text": [
      "WARNING:tensorflow:From /Users/ehsieh/anaconda3/lib/python3.7/site-packages/tensorflow_core/python/ops/resource_variable_ops.py:1630: calling BaseResourceVariable.__init__ (from tensorflow.python.ops.resource_variable_ops) with constraint is deprecated and will be removed in a future version.\n",
      "Instructions for updating:\n",
      "If using Keras pass *_constraint arguments to layers.\n",
      "WARNING:tensorflow:From /Users/ehsieh/anaconda3/lib/python3.7/site-packages/tensorflow_core/python/ops/nn_impl.py:183: where (from tensorflow.python.ops.array_ops) is deprecated and will be removed in a future version.\n",
      "Instructions for updating:\n",
      "Use tf.where in 2.0, which has the same broadcast rule as np.where\n"
     ]
    }
   ],
   "source": [
    "#Tensorflow\n",
    "tf.set_random_seed(1)\n",
    "\n",
    "embedding_dim = 50\n",
    "\n",
    "model = Sequential()\n",
    "model.add(Embedding(input_dim=vocab_size, output_dim=embedding_dim, input_length=maxlen))\n",
    "model.add(Flatten())\n",
    "model.add(Dense(64, activation='relu'))\n",
    "model.add(Dense(1, activation='sigmoid'))\n",
    "model.compile(optimizer='adam', loss='binary_crossentropy', metrics=['accuracy'])\n",
    "\n",
    "\n",
    "\n",
    "# # Tensorflow\n",
    "# input_dim = x_train.shape[1]\n",
    "# model = Sequential()\n",
    "# model.add(Dense(10, input_dim=input_dim, activation='relu'))\n",
    "# model.add(Dense(1, activation='sigmoid'))\n",
    "\n",
    "# model.compile(loss='binary_crossentropy', optimizer='adam', metrics=['accuracy'])\n",
    "# model.summary()\n",
    "\n",
    "\n",
    "# 89%: Emb, Flat, Dense64, Dense1"
   ]
  },
  {
   "cell_type": "code",
   "execution_count": 16,
   "metadata": {},
   "outputs": [
    {
     "name": "stdout",
     "output_type": "stream",
     "text": [
      "WARNING:tensorflow:From /Users/ehsieh/anaconda3/lib/python3.7/site-packages/keras/backend/tensorflow_backend.py:422: The name tf.global_variables is deprecated. Please use tf.compat.v1.global_variables instead.\n",
      "\n",
      "Train on 2076 samples, validate on 519 samples\n",
      "Epoch 1/5\n",
      "2076/2076 [==============================] - 1s 322us/step - loss: 0.3549 - accuracy: 0.8839 - val_loss: 0.3341 - val_accuracy: 0.8863\n",
      "Epoch 2/5\n",
      "2076/2076 [==============================] - 1s 256us/step - loss: 0.1869 - accuracy: 0.9321 - val_loss: 0.3806 - val_accuracy: 0.8863\n",
      "Epoch 3/5\n",
      "2076/2076 [==============================] - 0s 238us/step - loss: 0.0343 - accuracy: 0.9923 - val_loss: 0.4536 - val_accuracy: 0.8709\n",
      "Epoch 4/5\n",
      "2076/2076 [==============================] - 1s 243us/step - loss: 0.0149 - accuracy: 0.9976 - val_loss: 0.5031 - val_accuracy: 0.8825\n",
      "Epoch 5/5\n",
      "2076/2076 [==============================] - 1s 242us/step - loss: 0.0163 - accuracy: 0.9957 - val_loss: 0.4979 - val_accuracy: 0.8825\n"
     ]
    }
   ],
   "source": [
    "history = model.fit(x_train_tok, y_train, epochs=5, validation_data=(x_test_tok, y_test), batch_size=8)"
   ]
  },
  {
   "cell_type": "code",
   "execution_count": 17,
   "metadata": {},
   "outputs": [
    {
     "name": "stdout",
     "output_type": "stream",
     "text": [
      "2076/2076 [==============================] - 0s 18us/step\n",
      "Training Accuracy: 0.9976\n",
      "519/519 [==============================] - 0s 16us/step\n",
      "Testing Accuracy:  0.8825\n"
     ]
    }
   ],
   "source": [
    "loss, accuracy = model.evaluate(x_train_tok, y_train)\n",
    "print(\"Training Accuracy: {:.4f}\".format(accuracy))\n",
    "loss, accuracy = model.evaluate(x_test_tok, y_test)\n",
    "print(\"Testing Accuracy:  {:.4f}\".format(accuracy))"
   ]
  },
  {
   "cell_type": "code",
   "execution_count": 18,
   "metadata": {},
   "outputs": [],
   "source": [
    "# teststr = 'Falling through cracks: Vaccine bypasses some older adults'\n",
    "# teststr = normalize_text(teststr)\n",
    "\n",
    "# teststr = vectorizer.transform([teststr])\n",
    "# tokenizer = Tokenizer(num_words=5000)\n",
    "# tokenizer.fit_on_texts(sentences_train)\n",
    "# teststr = tokenizer.texts_to_sequences(teststr)\n",
    "\n",
    "# maxlen = 50\n",
    "# teststr = pad_sequences(teststr, padding='post', maxlen=maxlen)\n",
    "# x_test_tok = pad_sequences(x_test_tok, padding='post', maxlen=maxlen)\n",
    "# print(temp_test_tok.shape)"
   ]
  },
  {
   "cell_type": "code",
   "execution_count": 30,
   "metadata": {},
   "outputs": [
    {
     "name": "stdout",
     "output_type": "stream",
     "text": [
      "[[0.9739336]]\n"
     ]
    }
   ],
   "source": [
    "pred = model.predict(test_tok)\n",
    "print(pred)"
   ]
  },
  {
   "cell_type": "code",
   "execution_count": null,
   "metadata": {},
   "outputs": [],
   "source": []
  },
  {
   "cell_type": "code",
   "execution_count": 21,
   "metadata": {},
   "outputs": [
    {
     "name": "stdout",
     "output_type": "stream",
     "text": [
      "(2076, 4127)\n",
      "(519, 4127)\n",
      "(2076,)\n"
     ]
    }
   ],
   "source": [
    "print(x_train.shape)\n",
    "print(x_test.shape)\n",
    "print(sentences_train.shape)"
   ]
  },
  {
   "cell_type": "code",
   "execution_count": null,
   "metadata": {},
   "outputs": [],
   "source": [
    "temp = ['general kenobi hello there']\n",
    "temppd = pd.Series(temp)\n",
    "temp_test = vectorizer.transform(temp)\n",
    "print(temp_test.shape)"
   ]
  }
 ],
 "metadata": {
  "kernelspec": {
   "display_name": "Python 3",
   "language": "python",
   "name": "python3"
  },
  "language_info": {
   "codemirror_mode": {
    "name": "ipython",
    "version": 3
   },
   "file_extension": ".py",
   "mimetype": "text/x-python",
   "name": "python",
   "nbconvert_exporter": "python",
   "pygments_lexer": "ipython3",
   "version": "3.7.3"
  }
 },
 "nbformat": 4,
 "nbformat_minor": 2
}
