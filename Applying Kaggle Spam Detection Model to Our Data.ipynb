{
 "cells": [
  {
   "cell_type": "code",
   "execution_count": 1,
   "metadata": {},
   "outputs": [
    {
     "name": "stdout",
     "output_type": "stream",
     "text": [
      "['post_data.csv', 'post_data_full.csv', '.DS_Store', 'data_collect.py', 'Applying Kaggle Spam Detection Model to Our Data.ipynb', 'README.md', '.ipynb_checkpoints', '.git', 'post_data_source.csv']\n"
     ]
    }
   ],
   "source": [
    "import numpy as np # linear algebra\n",
    "import pandas as pd # data processing, CSV file I/O (e.g. pd.read_csv)\n",
    "import os\n",
    "print(os.listdir(\".\"))"
   ]
  },
  {
   "cell_type": "code",
   "execution_count": 2,
   "metadata": {},
   "outputs": [],
   "source": [
    "data = pd.read_csv(\"post_data_full.csv\")"
   ]
  },
  {
   "cell_type": "code",
   "execution_count": 3,
   "metadata": {},
   "outputs": [],
   "source": [
    "#Drop unnecessary columns \n",
    "data = data.drop(columns=['url', 'subreddit', 'score', 'permalink','Source'])"
   ]
  },
  {
   "cell_type": "code",
   "execution_count": 4,
   "metadata": {},
   "outputs": [
    {
     "data": {
      "text/html": [
       "<div>\n",
       "<style scoped>\n",
       "    .dataframe tbody tr th:only-of-type {\n",
       "        vertical-align: middle;\n",
       "    }\n",
       "\n",
       "    .dataframe tbody tr th {\n",
       "        vertical-align: top;\n",
       "    }\n",
       "\n",
       "    .dataframe thead th {\n",
       "        text-align: right;\n",
       "    }\n",
       "</style>\n",
       "<table border=\"1\" class=\"dataframe\">\n",
       "  <thead>\n",
       "    <tr style=\"text-align: right;\">\n",
       "      <th></th>\n",
       "      <th>class</th>\n",
       "      <th>title</th>\n",
       "    </tr>\n",
       "  </thead>\n",
       "  <tbody>\n",
       "    <tr>\n",
       "      <td>0</td>\n",
       "      <td>1</td>\n",
       "      <td>COVID-19: Cases of vaccine-resistant variant m...</td>\n",
       "    </tr>\n",
       "    <tr>\n",
       "      <td>1</td>\n",
       "      <td>1</td>\n",
       "      <td>Should A COVID Vaccine Be Part Of The Back-To-...</td>\n",
       "    </tr>\n",
       "    <tr>\n",
       "      <td>2</td>\n",
       "      <td>1</td>\n",
       "      <td>UK hits 30 million first vaccine doses - 57% o...</td>\n",
       "    </tr>\n",
       "    <tr>\n",
       "      <td>3</td>\n",
       "      <td>1</td>\n",
       "      <td>EU medical regulator says AstraZeneca COVID va...</td>\n",
       "    </tr>\n",
       "    <tr>\n",
       "      <td>4</td>\n",
       "      <td>1</td>\n",
       "      <td>Moderna begins testing next-generation coronav...</td>\n",
       "    </tr>\n",
       "  </tbody>\n",
       "</table>\n",
       "</div>"
      ],
      "text/plain": [
       "   class                                              title\n",
       "0      1  COVID-19: Cases of vaccine-resistant variant m...\n",
       "1      1  Should A COVID Vaccine Be Part Of The Back-To-...\n",
       "2      1  UK hits 30 million first vaccine doses - 57% o...\n",
       "3      1  EU medical regulator says AstraZeneca COVID va...\n",
       "4      1  Moderna begins testing next-generation coronav..."
      ]
     },
     "execution_count": 4,
     "metadata": {},
     "output_type": "execute_result"
    }
   ],
   "source": [
    "#show\n",
    "data.head()"
   ]
  },
  {
   "cell_type": "code",
   "execution_count": 5,
   "metadata": {},
   "outputs": [],
   "source": [
    "#We choose 1 row.And we throw punctuation\n",
    "import re\n",
    "nlp_data = str(data.iloc[2,:])\n",
    "nlp_data = re.sub(\"[^a-zA-Z]\",\" \",nlp_data)"
   ]
  },
  {
   "cell_type": "code",
   "execution_count": 6,
   "metadata": {},
   "outputs": [],
   "source": [
    "nlp_data = nlp_data.lower()"
   ]
  },
  {
   "cell_type": "code",
   "execution_count": 7,
   "metadata": {},
   "outputs": [],
   "source": [
    "import nltk as nlp\n",
    "nlp_data = nlp.word_tokenize(nlp_data)\n",
    "#nlp_data = nlp_data.split() or we can do so"
   ]
  },
  {
   "cell_type": "code",
   "execution_count": 8,
   "metadata": {},
   "outputs": [
    {
     "name": "stderr",
     "output_type": "stream",
     "text": [
      "[nltk_data] Downloading package wordnet to /Users/david/nltk_data...\n",
      "[nltk_data]   Package wordnet is already up-to-date!\n"
     ]
    },
    {
     "data": {
      "text/plain": [
       "True"
      ]
     },
     "execution_count": 8,
     "metadata": {},
     "output_type": "execute_result"
    }
   ],
   "source": [
    "import nltk\n",
    "nltk.download('wordnet')"
   ]
  },
  {
   "cell_type": "code",
   "execution_count": 9,
   "metadata": {},
   "outputs": [],
   "source": [
    "#we have to find word root\n",
    "lemma = nlp.WordNetLemmatizer()\n",
    "nlp_data = [lemma.lemmatize(word) for word in nlp_data]"
   ]
  },
  {
   "cell_type": "code",
   "execution_count": 10,
   "metadata": {},
   "outputs": [],
   "source": [
    "nlp_data = \" \".join(nlp_data)"
   ]
  },
  {
   "cell_type": "code",
   "execution_count": 11,
   "metadata": {},
   "outputs": [],
   "source": [
    "import nltk as nlp\n",
    "import re\n",
    "description_list = []\n",
    "for description in data[\"title\"]:\n",
    "    description = re.sub(\"[^a-zA-Z]\",\" \",description)\n",
    "    description = description.lower()   # buyuk harftan kucuk harfe cevirme\n",
    "    description = nlp.word_tokenize(description)\n",
    "    #description = [ word for word in description if not word in set(stopwords.words(\"english\"))]\n",
    "    lemma = nlp.WordNetLemmatizer()\n",
    "    description = [ lemma.lemmatize(word) for word in description]\n",
    "    description = \" \".join(description)\n",
    "    description_list.append(description) #we hide all word one section"
   ]
  },
  {
   "cell_type": "code",
   "execution_count": 12,
   "metadata": {},
   "outputs": [
    {
     "name": "stdout",
     "output_type": "stream",
     "text": [
      "the most using 3000 words: ['aaa', 'abandon', 'abandoned', 'abdul', 'ability', 'able', 'abound', 'abroad', 'absolutely', 'absurd', 'abu', 'academy', 'accelerate', 'accelerated', 'acceleration', 'acceptance', 'access', 'accessible', 'accidentally', 'accidently', 'according', 'account', 'accused', 'accuses', 'achieve', 'achieved', 'achieving', 'achilles', 'acid', 'acquire', 'act', 'action', 'active', 'activist', 'activity', 'actor', 'actually', 'ad', 'adaptive', 'add', 'added', 'adding', 'addition', 'additional', 'address', 'adenovirus', 'adjust', 'adjusts', 'adjuvant', 'administer', 'administered', 'administering', 'administers', 'administration', 'administrator', 'admits', 'adolescent', 'adopts', 'adriano', 'adult', 'advance', 'advantage', 'adverse', 'advice', 'advise', 'advised', 'adviser', 'advisor', 'advisory', 'affair', 'affect', 'affecting', 'affiliation', 'affluent', 'afford', 'affordable', 'afghanistan', 'africa', 'african', 'age', 'aged', 'agency', 'aggressive', 'ago', 'agree', 'agreed', 'agreement', 'agrees', 'ahead', 'ai', 'aid', 'aiims', 'ailment', 'aim', 'aimoo', 'air', 'airlift', 'airline', 'airport', 'alabama', 'alamo', 'alarm', 'alarmed', 'alarming', 'alaska', 'alex', 'alexander', 'algeria', 'alleged', 'allegedly', 'alleges', 'alleging', 'allergic', 'allergy', 'alliance', 'allocate', 'allocated', 'allocation', 'allotment', 'allow', 'allows', 'ally', 'alphavirus', 'alter', 'altered', 'alternating', 'alternative', 'altimmune', 'ama', 'amanda', 'amazon', 'ambition', 'ambitious', 'amendment', 'america', 'american', 'amid', 'amino', 'amplifying', 'analysing', 'analysis', 'analyst', 'analyze', 'anand', 'anaphylaxis', 'andrew', 'angel', 'angela', 'angeles', 'anger', 'animal', 'ankara', 'annie', 'announce', 'announced', 'announcement', 'announces', 'announcing', 'annually', 'answer', 'answered', 'antarctica', 'anthony', 'anti', 'antibody', 'antichrist', 'anticipation', 'antidote', 'antigenic', 'antivaxxers', 'antiviral', 'antonio', 'anvisa', 'anxiously', 'anymore', 'apart', 'apartheid', 'ape', 'apologizes', 'apparent', 'appearing', 'appears', 'applauds', 'application', 'applies', 'appointment', 'appoints', 'appreciation', 'apprehensive', 'approach', 'approval', 'approve', 'approved', 'approves', 'approving', 'apr', 'april', 'arab', 'arabia', 'arbutus', 'archdiocese', 'area', 'aren', 'argentina', 'arise', 'arizona', 'arm', 'armenia', 'army', 'array', 'arrest', 'arrival', 'arrive', 'arrived', 'arrives', 'arriving', 'arsenal', 'article', 'asap', 'ashraf', 'asia', 'asian', 'ask', 'asked', 'asking', 'asks', 'askst', 'assessment', 'asset', 'association', 'astra', 'astrazeneca', 'asymptomatic', 'athlete', 'attack', 'attempt', 'attempting', 'attenuated', 'attitude', 'attorney', 'audit', 'august', 'aurora', 'austin', 'australia', 'australian', 'austria', 'austrian', 'authorisation', 'authorise', 'authorised', 'authority', 'authorization', 'authorize', 'authorized', 'authorizes', 'autumn', 'available', 'avatar', 'average', 'aviation', 'aviv', 'avoid', 'avoided', 'avoiding', 'await', 'award', 'aware', 'awareness', 'away', 'ayurveda', 'az', 'azar', 'azd', 'azithromycin', 'baboon', 'backdate', 'backed', 'backer', 'backing', 'backlash', 'backup', 'bacteria', 'bacteriophage', 'bad', 'bahrain', 'baker', 'balk', 'ban', 'bancel', 'bangladesh', 'banned', 'baptist', 'barda', 'barred', 'barrier', 'based', 'batch', 'battle', 'bayer', 'bbb', 'bbc', 'bcg', 'beach', 'bearded', 'beast', 'beat', 'beating', 'beatles', 'began', 'begin', 'beginning', 'begun', 'behaviour', 'beijing', 'belgian', 'belgium', 'belief', 'bell', 'benchmark', 'bending', 'benefit', 'berlin', 'berman', 'best', 'bet', 'better', 'beutner', 'bharat', 'bhutan', 'bid', 'biden', 'big', 'bigger', 'biggest', 'bigtree', 'billion', 'billionaire', 'bind', 'binding', 'bio', 'biological', 'biologika', 'biologist', 'biomimetic', 'biontech', 'biopharmaceutical', 'biosolutions', 'biotech', 'biotechnology', 'bishop', 'bizarre', 'black', 'blame', 'blind', 'block', 'blood', 'bn', 'bnt', 'body', 'book', 'booking', 'boost', 'booster', 'boosting', 'border', 'boris', 'boston', 'brazil', 'brazilian', 'break', 'breaking', 'breakthrough', 'brief', 'briefing', 'bright', 'bring', 'bringing', 'brings', 'brit', 'britain', 'british', 'budget', 'build', 'building', 'burn', 'bus', 'business', 'button', 'buy', 'calculator', 'california', 'californian', 'calling', 'cambridge', 'campaign', 'canada', 'canadian', 'candidate', 'cansino', 'capacity', 'car', 'card', 'care', 'caregiver', 'caribbean', 'carving', 'case', 'catch', 'catholic', 'cause', 'caused', 'causing', 'cautious', 'cautiously', 'cbc', 'cdc', 'cell', 'cent', 'center', 'centralized', 'centre', 'ceo', 'certain', 'certificate', 'chadox', 'chain', 'challenge', 'chance', 'chancellor', 'change', 'changed', 'charge', 'charged', 'charles', 'check', 'chemical', 'chemistry', 'chen', 'chi', 'chicago', 'chick', 'chides', 'chief', 'child', 'childhood', 'chile', 'china', 'chinese', 'chip', 'choice', 'chokepoint', 'chose', 'christmas', 'church', 'circulating', 'citing', 'citizen', 'city', 'claim', 'claiming', 'clear', 'cleared', 'clinic', 'clinical', 'close', 'closely', 'closer', 'clot', 'club', 'cnn', 'code', 'cohort', 'cold', 'collaboration', 'collapse', 'college', 'colorado', 'com', 'combination', 'come', 'coming', 'commander', 'comment', 'commentary', 'commitment', 'commits', 'committee', 'communication', 'community', 'company', 'compensate', 'competent', 'complaint', 'complete', 'completed', 'complicate', 'complication', 'component', 'compose', 'compromising', 'compulsory', 'computer', 'concern', 'concerned', 'concerning', 'conclude', 'concludes', 'concurrent', 'condition', 'conducting', 'confer', 'conference', 'confers', 'confidence', 'confident', 'confirm', 'confirmed', 'confirming', 'confirms', 'confiscates', 'confounded', 'confronting', 'confusion', 'congregation', 'congressman', 'connection', 'consciousness', 'consider', 'consideration', 'considering', 'considers', 'conspiracy', 'constant', 'consulate', 'consultation', 'contagion', 'contagious', 'contain', 'container', 'containment', 'contains', 'contemplate', 'content', 'context', 'continue', 'continues', 'contra', 'contract', 'contracting', 'contributes', 'contributor', 'control', 'controlled', 'controller', 'controlling', 'controversy', 'convalescent', 'conversation', 'conveys', 'convince', 'convinced', 'convincing', 'cool', 'cooler', 'cooperate', 'cooperation', 'coordinated', 'corbett', 'cordero', 'cornavirus', 'corner', 'corning', 'corona', 'coronavac', 'coronavirus', 'coronavirusclub', 'coronaviruses', 'coronavirusus', 'coronovirus', 'corp', 'corporate', 'correctly', 'correspondent', 'cost', 'councillor', 'count', 'counter', 'counteract', 'countless', 'country', 'county', 'course', 'cov', 'covax', 'covaxin', 'covd', 'cove', 'cover', 'coverage', 'covered', 'covering', 'covid', 'covidshield', 'covishield', 'cq', 'crab', 'crack', 'crackpot', 'craft', 'crash', 'crazy', 'cream', 'create', 'created', 'creates', 'creating', 'creator', 'credible', 'crime', 'criminal', 'crisis', 'criterion', 'critic', 'critical', 'critically', 'criticises', 'criticism', 'criticized', 'criticizes', 'crocodile', 'cronyism', 'crop', 'cross', 'crossing', 'crowd', 'crowded', 'crown', 'crucial', 'cruel', 'cruise', 'cuba', 'cuban', 'culture', 'cuomo', 'curative', 'curb', 'cure', 'curevac', 'curious', 'current', 'currently', 'curve', 'customer', 'cut', 'cutting', 'cv', 'cvncov', 'cyberattacks', 'cybersecurity', 'czar', 'da', 'daiichi', 'daily', 'dakota', 'dallas', 'damage', 'damned', 'dampen', 'dancing', 'dangerous', 'danish', 'danke', 'dare', 'dark', 'darkest', 'darwin', 'dashboard', 'data', 'date', 'david', 'day', 'daycare', 'dead', 'deadlier', 'deadline', 'deadly', 'deal', 'death', 'debate', 'debilitating', 'debunked', 'dec', 'decade', 'decay', 'december', 'deception', 'decide', 'decision', 'declaration', 'declare', 'decline', 'declining', 'decrease', 'decreased', 'dedication', 'deemed', 'deep', 'defeat', 'defend', 'defense', 'defiant', 'deficient', 'defies', 'definitive', 'defuse', 'degree', 'del', 'delay', 'delayed', 'delaying', 'deleted', 'deletion', 'delhi', 'deliver', 'delivered', 'delivery', 'demand', 'democrat', 'demographic', 'demonstrate', 'demonstrates', 'denied', 'denies', 'denise', 'dental', 'denver', 'department', 'departure', 'depend', 'deploy', 'deployment', 'deputy', 'der', 'derived', 'desantis', 'desarrolla', 'describes', 'describing', 'design', 'designed', 'designing', 'desist', 'desperately', 'despite', 'destroy', 'detailed', 'detected', 'determine', 'deutsche', 'devastating', 'develop', 'developed', 'developer', 'developing', 'development', 'developmental', 'develops', 'dhabi', 'dhaka', 'diamond', 'dibs', 'did', 'die', 'died', 'diego', 'different', 'difficult', 'digital', 'dimeric', 'ding', 'diplomacy', 'dippin', 'direct', 'directly', 'director', 'dirty', 'disability', 'disabled', 'disappointing', 'disappointment', 'disarray', 'disaster', 'discard', 'disclaimer', 'discourage', 'discourages', 'discover', 'discovered', 'discoverer', 'discovery', 'discus', 'discussing', 'discussion', 'disease', 'disguised', 'disinformation', 'dismissed', 'dismisses', 'disney', 'disorder', 'dispute', 'disrupt', 'disservice', 'distancing', 'distribute', 'distributed', 'distributing', 'distribution', 'district', 'distrust', 'disturbing', 'divide', 'divided', 'division', 'diy', 'dna', 'doctor', 'document', 'dodger', 'doe', 'doesn', 'dogged', 'doherty', 'doing', 'dollar', 'dolly', 'domain', 'domestic', 'dominican', 'don', 'donald', 'donate', 'donates', 'donating', 'donation', 'donor', 'door', 'dos', 'dosage', 'dose', 'dosed', 'doshi', 'dosing', 'dot', 'double', 'doubt', 'dow', 'downplays', 'dozen', 'dr', 'dramatic', 'dramatically', 'drastically', 'dried', 'drive', 'driver', 'driving', 'drop', 'dropping', 'drug', 'drugmaker', 'drugmakers', 'dry', 'dual', 'dubai', 'dubbed', 'duck', 'duke', 'dumbest', 'dune', 'durability', 'durable', 'dutch', 'duterte', 'dy', 'dynamic', 'earlier', 'early', 'earmark', 'earn', 'eas', 'ease', 'easier', 'easily', 'easing', 'eastern', 'easy', 'eatery', 'ebola', 'ec', 'echo', 'ecohealth', 'economic', 'economy', 'ecosystem', 'ed', 'edge', 'editor', 'editorial', 'education', 'educator', 'effect', 'effective', 'effectiveness', 'effectivness', 'efficacy', 'efficiency', 'effort', 'egypt', 'el', 'elderly', 'election', 'elevated', 'elicited', 'elicits', 'eligibility', 'eligible', 'eliminate', 'elite', 'elon', 'ema', 'email', 'emerged', 'emergency', 'emergent', 'emerging', 'emirate', 'emory', 'employee', 'employer', 'employment', 'en', 'enabled', 'enables', 'encourage', 'encourages', 'encouraging', 'end', 'endanger', 'endeavor', 'endorsed', 'endorsement', 'endorses', 'endpoint', 'endure', 'engineer', 'engineered', 'engineering', 'england', 'english', 'enhances', 'enormous', 'enroll', 'enrolled', 'ensemble', 'enslave', 'ensure', 'enter', 'entering', 'enterprise', 'enters', 'entice', 'entire', 'entirely', 'entrenching', 'entry', 'enzyme', 'eosinophilic', 'epidemic', 'epidemiologist', 'epipen', 'epitope', 'equally', 'equitable', 'equity', 'eric', 'erlangen', 'errant', 'error', 'escalates', 'escalation', 'escape', 'espaillat', 'especially', 'essential', 'established', 'estimate', 'estimated', 'estimating', 'et', 'ethical', 'ethically', 'ethnic', 'ethnicity', 'eu', 'eua', 'euphoric', 'europe', 'european', 'eva', 'evading', 'evaluate', 'evaluating', 'evaluation', 'event', 'evidence', 'evolves', 'exactly', 'examiner', 'examining', 'example', 'excellent', 'excess', 'excessive', 'exchange', 'excitement', 'exclusion', 'exclusive', 'exclusively', 'exec', 'executive', 'exempted', 'exercise', 'exhaustion', 'existed', 'existing', 'exists', 'exit', 'expand', 'expanded', 'expanding', 'expands', 'expect', 'expected', 'expecting', 'expects', 'expensive', 'experience', 'experienced', 'experiment', 'experimental', 'experimenting', 'expert', 'expired', 'explained', 'explainer', 'explains', 'explore', 'explores', 'exploring', 'export', 'expose', 'exposure', 'express', 'expressing', 'extended', 'extending', 'extends', 'extra', 'extremely', 'eye', 'face', 'facebook', 'facility', 'facing', 'fact', 'faction', 'factory', 'fade', 'fail', 'failed', 'fails', 'faint', 'fainted', 'fair', 'fairly', 'fake', 'faking', 'fall', 'falling', 'falo', 'false', 'falsely', 'famer', 'familiar', 'family', 'famous', 'fantastic', 'far', 'fare', 'farma', 'farthest', 'fast', 'faster', 'fastest', 'fauci', 'favor', 'fb', 'fda', 'fear', 'february', 'fed', 'federal', 'feed', 'feel', 'felt', 'fema', 'fewer', 'fight', 'file', 'filing', 'final', 'finally', 'finding', 'fine', 'firm', 'fix', 'fl', 'florida', 'flu', 'focus', 'foldit', 'follow', 'followed', 'following', 'food', 'force', 'forecast', 'forever', 'formulation', 'forward', 'foundation', 'founder', 'france', 'francis', 'free', 'freezer', 'french', 'fresh', 'fridge', 'friend', 'frontline', 'frontrunners', 'frustrated', 'fuel', 'fully', 'fund', 'funded', 'funding', 'future', 'gain', 'gamble', 'game', 'gate', 'gathering', 'gave', 'gender', 'general', 'generates', 'generation', 'genetic', 'georgia', 'german', 'germany', 'getting', 'ghana', 'giant', 'gilbert', 'given', 'giving', 'global', 'globe', 'goal', 'god', 'going', 'good', 'google', 'gop', 'got', 'gotten', 'gottlieb', 'gov', 'government', 'governor', 'grant', 'great', 'green', 'greenlights', 'ground', 'groundbreaking', 'group', 'grows', 'gsk', 'guarantee', 'guaranteed', 'guardian', 'guidance', 'guide', 'guideline', 'guinea', 'guy', 'ha', 'hacker', 'hacking', 'half', 'halt', 'halting', 'halve', 'hancock', 'happened', 'happening', 'happens', 'harvard', 'hasn', 'having', 'head', 'headache', 'health', 'healthcare', 'healthy', 'hear', 'heard', 'heart', 'heat', 'held', 'help', 'helped', 'herald', 'herd', 'hesitancy', 'hesitant', 'heterologous', 'heterotypic', 'high', 'higher', 'highly', 'hill', 'hinders', 'history', 'hit', 'hiv', 'hoax', 'hogan', 'hold', 'hollywood', 'holocaust', 'home', 'homegrown', 'honest', 'hong', 'hope', 'hopeful', 'hopefully', 'horseshoe', 'hospital', 'hospitalization', 'hospitalized', 'hour', 'house', 'houston', 'human', 'humanity', 'hungary', 'hunt', 'hunter', 'hurdle', 'hydroxychloroquine', 'ian', 'ice', 'icmr', 'identified', 'identify', 'idt', 'ii', 'iii', 'ill', 'illinois', 'illness', 'immediately', 'immune', 'immunity', 'immunization', 'immunogenicity', 'impact', 'imperial', 'implication', 'important', 'improve', 'inactivated', 'include', 'including', 'increase', 'increased', 'incredible', 'incredibly', 'india', 'indian', 'indicate', 'indicts', 'indigenous', 'individual', 'indonesia', 'induced', 'induces', 'industry', 'ineligible', 'infant', 'infect', 'infected', 'infection', 'infectious', 'influence', 'influenza', 'information', 'ingredient', 'initial', 'injected', 'injection', 'injury', 'inoculation', 'inovio', 'inside', 'insight', 'instacart', 'institute', 'insufficient', 'intense', 'interesting', 'interim', 'international', 'internet', 'interval', 'introduce', 'invest', 'investigation', 'involved', 'iran', 'ireland', 'isn', 'israel', 'israeli', 'issue', 'issuing', 'italian', 'italy', 'jab', 'jabbar', 'jan', 'janssen', 'january', 'japan', 'jared', 'john', 'johnson', 'join', 'journal', 'joy', 'jul', 'july', 'jump', 'jumped', 'jun', 'june', 'just', 'kaiser', 'kareem', 'keeping', 'kenya', 'kept', 'key', 'kick', 'kid', 'kill', 'killed', 'know', 'kong', 'korea', 'korean', 'la', 'lab', 'label', 'laboratory', 'lack', 'lag', 'lancet', 'landscape', 'lanka', 'lapd', 'laredo', 'large', 'largest', 'late', 'latest', 'latin', 'latino', 'launch', 'launched', 'law', 'lawmaker', 'le', 'lead', 'leader', 'leading', 'leaf', 'leaked', 'leave', 'leaving', 'led', 'lee', 'left', 'leftover', 'lessens', 'let', 'letter', 'level', 'leyen', 'liability', 'life', 'lifted', 'light', 'like', 'likely', 'limit', 'limited', 'limiting', 'line', 'link', 'linked', 'list', 'live', 'liveblog', 'll', 'loan', 'local', 'lockdown', 'logistics', 'london', 'long', 'longer', 'look', 'looking', 'los', 'loses', 'lost', 'lot', 'low', 'lower', 'luck', 'macaque', 'main', 'maine', 'major', 'majority', 'make', 'maker', 'making', 'malaysia', 'mammogram', 'man', 'mandate', 'mandatory', 'manufacture', 'manufacturer', 'manufacturing', 'map', 'march', 'mark', 'market', 'martial', 'maryland', 'mask', 'mass', 'massachusetts', 'massacre', 'massive', 'matt', 'maybe', 'mckellen', 'md', 'mean', 'measles', 'measure', 'mechanism', 'medicago', 'medical', 'medicine', 'medium', 'meet', 'meeting', 'melinda', 'member', 'memo', 'merck', 'merkel', 'message', 'method', 'mexico', 'miami', 'michelle', 'michigan', 'microchip', 'microneedle', 'mid', 'mild', 'milestone', 'military', 'million', 'minister', 'ministry', 'minority', 'misinformation', 'miss', 'mississippi', 'mistrust', 'mixed', 'mln', 'mmr', 'model', 'moderna', 'modified', 'moment', 'monday', 'money', 'monitor', 'monkey', 'month', 'moon', 'mortality', 'moscow', 'mouse', 'moved', 'movement', 'moving', 'mp', 'mrna', 'multi', 'multiple', 'multiverse', 'mutating', 'mutation', 'myth', 'nanoparticle', 'narcolepsy', 'nasal', 'nashville', 'nation', 'national', 'nationalism', 'nationwide', 'native', 'natural', 'naturally', 'nature', 'nba', 'nbc', 'ncov', 'nd', 'nearly', 'nears', 'necessary', 'need', 'needed', 'needle', 'negative', 'nejm', 'netherlands', 'neurological', 'neutralization', 'neutralizing', 'new', 'newly', 'news', 'nh', 'niaid', 'nih', 'nj', 'nobel', 'nod', 'non', 'normal', 'normalcy', 'normality', 'north', 'northeast', 'norway', 'norwegian', 'novartis', 'novavax', 'novel', 'november', 'number', 'nurse', 'nursing', 'nvx', 'ny', 'nyc', 'nytimes', 'nz', 'october', 'offer', 'offered', 'offering', 'officer', 'official', 'ok', 'old', 'older', 'olympics', 'ongoing', 'online', 'ontario', 'open', 'opening', 'operation', 'opinion', 'optimistic', 'order', 'ordered', 'oregon', 'organization', 'original', 'ousted', 'outbreak', 'outline', 'outside', 'overcome', 'oxford', 'pace', 'pact', 'page', 'pakistan', 'palestinian', 'palsy', 'pandemic', 'panel', 'panic', 'paper', 'park', 'parliament', 'participant', 'participate', 'partner', 'partnership', 'parton', 'pass', 'passive', 'passport', 'patch', 'patent', 'path', 'pathogen', 'patient', 'paulo', 'pause', 'paving', 'pay', 'peak', 'peer', 'pennsylvania', 'pentagon', 'people', 'percent', 'permanente', 'person', 'personal', 'personnel', 'peter', 'pfizer', 'pharma', 'pharmaceutical', 'pharmacist', 'pharmacy', 'phase', 'philippine', 'pick', 'picked', 'picture', 'pig', 'pile', 'pill', 'pilot', 'pipeline', 'pitch', 'pitfall', 'pitt', 'pittsburgh', 'pivot', 'pivotal', 'place', 'placebo', 'plague', 'plan', 'plandemic', 'planet', 'planning', 'plant', 'plasma', 'plaster', 'platform', 'play', 'played', 'player', 'playing', 'plc', 'pleading', 'pleads', 'pleasure', 'pledge', 'plot', 'plotted', 'plug', 'plunge', 'plus', 'pm', 'pneumonia', 'pod', 'podcast', 'point', 'poised', 'pol', 'poland', 'pole', 'policy', 'polio', 'poliovirus', 'polis', 'polish', 'political', 'politician', 'politicize', 'politicizing', 'politics', 'poll', 'polybasic', 'polymersomes', 'poor', 'poorer', 'poorest', 'pope', 'population', 'portman', 'position', 'positive', 'positively', 'possibility', 'possible', 'possibly', 'post', 'postal', 'posted', 'posting', 'potency', 'potent', 'potential', 'potentially', 'potus', 'pound', 'power', 'powerful', 'praise', 'prayer', 'pre', 'preclinical', 'predict', 'prediction', 'predicts', 'preference', 'pregnancy', 'pregnant', 'preliminary', 'prep', 'prepare', 'prepared', 'preparedness', 'prepares', 'preparing', 'preprints', 'pres', 'preschool', 'present', 'president', 'presidential', 'press', 'pressure', 'pressured', 'pretty', 'prevent', 'preventable', 'preventing', 'prevention', 'prevents', 'previous', 'price', 'prickly', 'primary', 'primate', 'prime', 'primed', 'prince', 'principle', 'prior', 'prioritise', 'prioritising', 'prioritization', 'prioritize', 'prioritized', 'prioritizes', 'priority', 'prison', 'prisoner', 'private', 'privileged', 'prize', 'pro', 'probability', 'probably', 'problem', 'process', 'processing', 'produce', 'produced', 'producing', 'product', 'production', 'prof', 'professional', 'professor', 'profile', 'profit', 'program', 'programme', 'progress', 'project', 'projection', 'proline', 'promise', 'promised', 'promising', 'promoting', 'promotion', 'prompt', 'proof', 'proper', 'property', 'prophecy', 'propose', 'proposed', 'proposes', 'propublica', 'prospect', 'prospective', 'protect', 'protection', 'protective', 'protects', 'protein', 'protest', 'protester', 'prototype', 'proud', 'prove', 'proved', 'proven', 'provide', 'provided', 'provider', 'provides', 'providing', 'providors', 'proving', 'provisional', 'pruebas', 'psa', 'pseudovirus', 'pub', 'public', 'publish', 'published', 'publishes', 'pulled', 'punished', 'purchase', 'purified', 'purpose', 'pursuit', 'push', 'pushed', 'pushing', 'putin', 'putting', 'puurs', 'qualify', 'quantum', 'quarantine', 'quarter', 'quebec', 'queensland', 'quest', 'question', 'queue', 'quick', 'quickest', 'quickly', 'quiet', 'quite', 'rabbi', 'rabies', 'race', 'racial', 'racing', 'rad', 'radical', 'rail', 'raise', 'raised', 'raising', 'ramp', 'randomised', 'range', 'rank', 'ransom', 'rapid', 'rapidly', 'rare', 'rate', 'ravage', 'raw', 'razor', 'rbd', 'rd', 'rdif', 'reach', 'reached', 'reaction', 'reactogenicity', 'read', 'reader', 'readout', 'ready', 'real', 'reality', 'realize', 'really', 'reanalysis', 'reason', 'reassessing', 'reassignment', 'reassure', 'rebound', 'recall', 'receive', 'received', 'receives', 'receiving', 'recent', 'receptor', 'recieving', 'recipient', 'recombinant', 'recombination', 'recommend', 'recommendation', 'recommended', 'recommends', 'record', 'recover', 'recovered', 'recovery', 'recruiting', 'red', 'redacted', 'reddit', 'redemption', 'reduce', 'reduced', 'reduces', 'reduction', 'reef', 'referring', 'refrain', 'refrigerated', 'refusal', 'refuse', 'refuseniks', 'refusers', 'refusing', 'regarding', 'regimen', 'region', 'regional', 'register', 'registered', 'registering', 'registration', 'regular', 'regulation', 'regulator', 'regulatory', 'rehab', 'reinfection', 'reinstated', 'reject', 'rejected', 'rejection', 'related', 'relative', 'release', 'released', 'relies', 'religion', 'religious', 'remain', 'remains', 'remdesivir', 'reminder', 'remote', 'removal', 'remove', 'removed', 'render', 'renowned', 'reopen', 'reopened', 'reopening', 'reopens', 'rep', 'repeat', 'replicate', 'replication', 'replicon', 'reply', 'report', 'reported', 'reportedly', 'reporter', 'reporting', 'repositioning', 'reposted', 'repressive', 'republic', 'republish', 'repurposing', 'reputation', 'request', 'require', 'required', 'requirement', 'reschedule', 'research', 'researcher', 'researching', 'reservation', 'reserve', 'reset', 'resident', 'resist', 'resistance', 'resistant', 'resisting', 'resolution', 'resource', 'responder', 'responding', 'responds', 'response', 'responsibility', 'responsiveness', 'rest', 'restart', 'restaurant', 'restriction', 'restricts', 'result', 'resume', 'resurge', 'resurgence', 'retaliation', 'retired', 'return', 'returned', 'returning', 'reuters', 'reveal', 'revealed', 'reveals', 'revelation', 'review', 'reviewed', 'revise', 'revisiting', 'revival', 'revolutionize', 'rhesus', 'ria', 'rich', 'richmond', 'rick', 'ride', 'right', 'ring', 'rio', 'rip', 'rise', 'rishi', 'rising', 'risk', 'risky', 'rite', 'rival', 'rna', 'road', 'roadblock', 'rob', 'robert', 'robust', 'roche', 'rockstar', 'rocky', 'roland', 'role', 'roll', 'rolled', 'rolling', 'rollout', 'ron', 'room', 'round', 'route', 'routine', 'row', 'royalty', 'rubella', 'ruin', 'ruined', 'rule', 'rumor', 'rumour', 'run', 'runner', 'running', 'rupert', 'rural', 'rush', 'rushed', 'russell', 'russia', 'russian', 'rutte', 'sa', 'sabotage', 'sadly', 'safe', 'safely', 'safety', 'safeway', 'said', 'saint', 'sale', 'samba', 'sample', 'san', 'sanction', 'sankyo', 'sanofi', 'santa', 'sao', 'sarah', 'sars', 'sarscov', 'saskatchewan', 'saudi', 'save', 'say', 'saying', 'scale', 'scam', 'scandal', 'scary', 'scattered', 'scavenger', 'scenario', 'sceptical', 'scepticism', 'schedule', 'scheduled', 'scheduling', 'scheme', 'school', 'schott', 'schwarzenegger', 'science', 'sciencenews', 'scientific', 'scientist', 'score', 'scotland', 'scott', 'scouring', 'scramble', 'scrambling', 'scrapped', 'screening', 'scripps', 'scrum', 'scrutiny', 'sd', 'search', 'searching', 'seattle', 'second', 'secret', 'secretary', 'sector', 'secure', 'secured', 'secures', 'security', 'seeing', 'seek', 'seeking', 'seen', 'selected', 'selects', 'self', 'sell', 'selling', 'sen', 'senator', 'send', 'sending', 'sends', 'senegal', 'senior', 'sensationally', 'sense', 'sent', 'sentence', 'separate', 'sept', 'september', 'sequence', 'serial', 'seriously', 'seropositive', 'serum', 'server', 'service', 'session', 'set', 'setting', 'seven', 'severe', 'severely', 'severity', 'sewer', 'seychelles', 'shaped', 'share', 'shared', 'sharing', 'shed', 'sheet', 'shelf', 'shelter', 'shift', 'shincheonji', 'shine', 'ship', 'shipment', 'shipped', 'shipping', 'shit', 'shkreli', 'shop', 'shopper', 'short', 'shortage', 'shorted', 'shorter', 'shortfall', 'shortly', 'shot', 'shouldn', 'showed', 'showing', 'shown', 'shut', 'sicily', 'sick', 'siddha', 'sight', 'sign', 'signal', 'signed', 'significant', 'significantly', 'sii', 'silent', 'silk', 'simple', 'simpson', 'sinai', 'singapore', 'single', 'sings', 'sinister', 'sinopharm', 'sinovac', 'sir', 'siren', 'sister', 'sit', 'site', 'sitting', 'situation', 'skeptic', 'skeptical', 'skepticism', 'skilled', 'skip', 'skipping', 'sky', 'slam', 'slaoui', 'slightly', 'slot', 'slovakia', 'slow', 'slower', 'slowly', 'slows', 'sluggish', 'small', 'smart', 'smoker', 'smother', 'smudgy', 'snag', 'soar', 'social', 'society', 'sofia', 'soft', 'sole', 'solidarity', 'solution', 'solve', 'soon', 'sooner', 'sort', 'sought', 'soul', 'sound', 'source', 'south', 'southwest', 'space', 'spahn', 'spain', 'spaniard', 'spanish', 'spare', 'spark', 'sparse', 'spat', 'spawn', 'speaks', 'special', 'specialist', 'specific', 'specifically', 'speculation', 'speed', 'speeding', 'speedy', 'spend', 'spent', 'spike', 'splash', 'spoilage', 'spoiled', 'spoiling', 'sponsored', 'sponsoring', 'sport', 'sporting', 'spray', 'spread', 'spreading', 'spring', 'spur', 'sputnik', 'squeeze', 'sreenivasan', 'sri', 'st', 'stability', 'stable', 'stack', 'stadium', 'staff', 'staffer', 'stage', 'stake', 'stalk', 'stand', 'standard', 'standing', 'stanford', 'start', 'started', 'starting', 'startup', 'stat', 'state', 'statement', 'stats', 'status', 'stay', 'staying', 'steal', 'stealing', 'stealthy', 'stem', 'step', 'stephane', 'stephen', 'stick', 'stipend', 'stock', 'stockpile', 'stockpiling', 'stole', 'stolen', 'stomatitis', 'stood', 'stop', 'storage', 'store', 'stored', 'storm', 'story', 'stra', 'straight', 'strain', 'stranger', 'strategic', 'strategy', 'strawberry', 'stream', 'stretch', 'stretching', 'strict', 'strike', 'striking', 'strong', 'strongest', 'struck', 'structural', 'structure', 'struggling', 'student', 'study', 'studying', 'stupid', 'sturgeon', 'sub', 'subject', 'submit', 'submits', 'submitted', 'substantially', 'subunit', 'success', 'successful', 'successfully', 'sudan', 'suddenly', 'sue', 'suffer', 'suffered', 'sufficient', 'suggest', 'suggested', 'suggesting', 'suggestion', 'suggests', 'suit', 'suitable', 'summary', 'summer', 'summit', 'sunak', 'super', 'supercomputer', 'supplied', 'supply', 'support', 'supported', 'supporting', 'supremacy', 'sure', 'surge', 'surgeon', 'surgery', 'surging', 'surprise', 'surprising', 'surprisingly', 'survey', 'survive', 'survivor', 'suspect', 'suspended', 'suspends', 'suspiscion', 'sussex', 'sustain', 'sustained', 'swansea', 'swede', 'sweden', 'swedish', 'swelling', 'swift', 'swine', 'swiss', 'swissmedic', 'switch', 'switched', 'switzerland', 'symptom', 'symptomatic', 'synthetic', 'syphilis', 'syrinx', 'tackle', 'tackled', 'tactical', 'taint', 'taiwan', 'taiwanese', 'takeaway', 'takeda', 'taken', 'taking', 'taland', 'talk', 'tampa', 'tao', 'tap', 'target', 'targeted', 'targeting', 'task', 'taskforce', 'tattoo', 'tax', 'taxi', 'tb', 'teacher', 'teaching', 'team', 'teaming', 'tech', 'techcrunch', 'technical', 'technique', 'technology', 'tedros', 'teen', 'tel', 'telegraph', 'telekom', 'television', 'tell', 'telling', 'temp', 'temperature', 'temporarily', 'tennessee', 'term', 'terrible', 'tesla', 'test', 'tested', 'testifies', 'testify', 'testimony', 'testing', 'texan', 'texas', 'text', 'th', 'thai', 'thailand', 'thanks', 'thanksgiving', 'thawed', 'theater', 'theirs', 'theoretically', 'theory', 'therapy', 'thermostable', 'thing', 'think', 'thought', 'thousand', 'threat', 'threatened', 'threatening', 'threatens', 'throw', 'thursday', 'ticket', 'tiger', 'tightens', 'till', 'time', 'timeframe', 'timeline', 'timely', 'timetable', 'timing', 'tissue', 'titan', 'title', 'tobacco', 'today', 'tokyo', 'told', 'tolerability', 'tolerated', 'toll', 'tomorrow', 'took', 'topic', 'toronto', 'torres', 'tory', 'total', 'tough', 'tourism', 'tourist', 'touted', 'town', 'track', 'tracked', 'tracker', 'tracking', 'traditional', 'trahan', 'trail', 'train', 'trained', 'training', 'transfer', 'transform', 'translate', 'translation', 'translational', 'transmission', 'transparency', 'transport', 'transportation', 'trap', 'trashed', 'travel', 'treat', 'treated', 'treatment', 'trend', 'trial', 'trialed', 'tribal', 'tribe', 'tried', 'trigger', 'trip', 'tripling', 'troop', 'tropic', 'tropical', 'trouble', 'troubled', 'trudeau', 'true', 'truly', 'trump', 'trust', 'trusted', 'truth', 'try', 'trying', 'trypanophobia', 'tuberculosis', 'tucker', 'tuesday', 'tulane', 'turbulent', 'turkey', 'turkish', 'turn', 'turned', 'turning', 'tuskegee', 'tv', 'tweeted', 'twice', 'twisted', 'twitter', 'type', 'uae', 'uchealth', 'uci', 'ucsf', 'uft', 'ugly', 'uk', 'ultimate', 'ultimately', 'ultra', 'umc', 'una', 'unable', 'unacceptable', 'unanimously', 'uncertainty', 'unclaimed', 'uncomfortable', 'underestimate', 'undermine', 'undermined', 'undermining', 'underrepresented', 'underserved', 'understand', 'understanding', 'underway', 'unfortunately', 'unhappy', 'unheralded', 'union', 'unit', 'unite', 'united', 'universal', 'university', 'unless', 'unlikely', 'unpleasant', 'unpopular', 'unprecedented', 'unpredictability', 'unproven', 'unrealistic', 'unrefrigerated', 'unsafe', 'unsung', 'untested', 'unusable', 'unused', 'unusual', 'unwavering', 'unwilling', 'upcoming', 'update', 'updated', 'upgrade', 'upmc', 'uproar', 'ups', 'upscale', 'upstate', 'urge', 'urged', 'urgency', 'ursula', 'uruguay', 'usa', 'usd', 'use', 'used', 'using', 'utah', 'utep', 'va', 'vaccinate', 'vaccinated', 'vaccinating', 'vaccination', 'vaccinationsg', 'vaccine', 'vaccinia', 'vacuna', 'validity', 'valneva', 'valuable', 'vams', 'vanquish', 'vanquishing', 'variant', 'vatican', 'vax', 'vaxers', 'vaxxers', 've', 'vector', 'vectored', 'venezuela', 'verde', 'verdict', 'verify', 'version', 'versus', 'vesicular', 'veteran', 'veterinary', 'viable', 'vial', 'vicious', 'victim', 'victory', 'video', 'vietnam', 'view', 'village', 'villager', 'vimeo', 'vin', 'vindicates', 'viral', 'virginia', 'virginian', 'virologist', 'virus', 'vital', 'vitamin', 'voa', 'vocal', 'voiced', 'vol', 'volume', 'voluntarily', 'volunteer', 'von', 'vote', 'voted', 'vow', 'vp', 'vrbpac', 'vsafe', 'vsv', 'vulnerable', 'wa', 'wait', 'waited', 'waiting', 'waive', 'walgreens', 'walk', 'walking', 'walz', 'wane', 'want', 'wanted', 'war', 'warded', 'warehouse', 'warm', 'warn', 'warned', 'warning', 'warns', 'warp', 'wary', 'wash', 'washington', 'waste', 'watch', 'watchdog', 'watched', 'watching', 'waterloo', 'wave', 'way', 'wbur', 'weak', 'weakening', 'wealthy', 'weapon', 'wear', 'wearing', 'weather', 'webinar', 'website', 'wednesday', 'week', 'weekly', 'weighs', 'welcome', 'went', 'weren', 'west', 'wetangu', 'whatsoever', 'whistleblower', 'white', 'whitmer', 'wide', 'widely', 'widespread', 'wife', 'wild', 'wildcat', 'wildfire', 'willie', 'willing', 'willingness', 'win', 'winner', 'winning', 'winter', 'wire', 'wisconsin', 'wise', 'wistar', 'withdraw', 'woe', 'woman', 'won', 'wonder', 'wondering', 'word', 'work', 'worked', 'worker', 'workhorse', 'working', 'world', 'worldwide', 'worried', 'worrisome', 'worry', 'worryingly', 'worse', 'worsen', 'worst', 'worth', 'wouldn', 'wral', 'wrangle', 'wrestle', 'write', 'writes', 'wrong', 'wrongly', 'wrote', 'wsj', 'wu', 'wuhan', 'xi', 'xinhua', 'xito', 'yale', 'yankee', 'year', 'yearslong', 'yes', 'yf', 'yield', 'ynet', 'yo', 'yonhap', 'york', 'young', 'younger', 'youtube', 'yun', 'zealand', 'zeneca', 'zhang', 'zhong', 'zim', 'zimbabwe', 'zinc', 'zip', 'zoo']\n"
     ]
    }
   ],
   "source": [
    "#We make bag of word it is including number of all word's info\n",
    "from sklearn.feature_extraction.text import CountVectorizer \n",
    "max_features = 3000 #We use the most common word\n",
    "count_vectorizer = CountVectorizer(max_features = max_features, stop_words = \"english\")\n",
    "sparce_matrix = count_vectorizer.fit_transform(description_list).toarray()\n",
    "print(\"the most using {} words: {}\".format(max_features,count_vectorizer.get_feature_names()))"
   ]
  },
  {
   "cell_type": "code",
   "execution_count": 13,
   "metadata": {},
   "outputs": [],
   "source": [
    "#We separate our data is train and test\n",
    "y = data.iloc[:,0].values   # male or female classes\n",
    "x = sparce_matrix\n",
    "from sklearn.model_selection import train_test_split\n",
    "x_train, x_test, y_train, y_test = train_test_split(x,y, test_size = 0.1, random_state = 42)"
   ]
  },
  {
   "cell_type": "code",
   "execution_count": 14,
   "metadata": {},
   "outputs": [
    {
     "name": "stdout",
     "output_type": "stream",
     "text": [
      "the accuracy of our model: 0.7307692307692307\n"
     ]
    }
   ],
   "source": [
    "from sklearn.naive_bayes import GaussianNB\n",
    "nb = GaussianNB()\n",
    "nb.fit(x_train,y_train)\n",
    "print(\"the accuracy of our model: {}\".format(nb.score(x_test,y_test)))"
   ]
  },
  {
   "cell_type": "code",
   "execution_count": 15,
   "metadata": {},
   "outputs": [
    {
     "name": "stdout",
     "output_type": "stream",
     "text": [
      "our accuracy is: 0.8538461538461538\n"
     ]
    }
   ],
   "source": [
    "from sklearn.linear_model import LogisticRegression\n",
    "lr = LogisticRegression(max_iter = 200)\n",
    "lr.fit(x_train,y_train)\n",
    "print(\"our accuracy is: {}\".format(lr.score(x_test,y_test)))"
   ]
  },
  {
   "cell_type": "code",
   "execution_count": 16,
   "metadata": {},
   "outputs": [
    {
     "name": "stdout",
     "output_type": "stream",
     "text": [
      "With KNN (K=3) accuracy is:  0.8346153846153846\n"
     ]
    }
   ],
   "source": [
    "from sklearn.neighbors import KNeighborsClassifier\n",
    "knn = KNeighborsClassifier(n_neighbors = 3)\n",
    "knn.fit(x_train,y_train)\n",
    "#print('Prediction: {}'.format(prediction))\n",
    "print('With KNN (K=3) accuracy is: ',knn.score(x_test,y_test))"
   ]
  },
  {
   "cell_type": "code",
   "execution_count": 27,
   "metadata": {},
   "outputs": [
    {
     "name": "stdout",
     "output_type": "stream",
     "text": [
      "Requirement already satisfied: tensorflow in /opt/anaconda3/lib/python3.7/site-packages (1.15.0)\n",
      "Requirement already satisfied: keras-applications>=1.0.8 in /opt/anaconda3/lib/python3.7/site-packages (from tensorflow) (1.0.8)\n",
      "Requirement already satisfied: absl-py>=0.7.0 in /opt/anaconda3/lib/python3.7/site-packages (from tensorflow) (0.9.0)\n",
      "Requirement already satisfied: keras-preprocessing>=1.0.5 in /opt/anaconda3/lib/python3.7/site-packages (from tensorflow) (1.1.0)\n",
      "Requirement already satisfied: six>=1.10.0 in /opt/anaconda3/lib/python3.7/site-packages (from tensorflow) (1.14.0)\n",
      "Requirement already satisfied: grpcio>=1.8.6 in /opt/anaconda3/lib/python3.7/site-packages (from tensorflow) (1.27.2)\n",
      "Requirement already satisfied: numpy<2.0,>=1.16.0 in /opt/anaconda3/lib/python3.7/site-packages (from tensorflow) (1.18.2)\n",
      "Requirement already satisfied: termcolor>=1.1.0 in /opt/anaconda3/lib/python3.7/site-packages (from tensorflow) (1.1.0)\n",
      "Requirement already satisfied: tensorboard<1.16.0,>=1.15.0 in /opt/anaconda3/lib/python3.7/site-packages (from tensorflow) (1.15.0)\n",
      "Requirement already satisfied: astor>=0.6.0 in /opt/anaconda3/lib/python3.7/site-packages (from tensorflow) (0.8.1)\n",
      "Requirement already satisfied: google-pasta>=0.1.6 in /opt/anaconda3/lib/python3.7/site-packages (from tensorflow) (0.2.0)\n",
      "Requirement already satisfied: tensorflow-estimator==1.15.1 in /opt/anaconda3/lib/python3.7/site-packages (from tensorflow) (1.15.1)\n",
      "Requirement already satisfied: gast==0.2.2 in /opt/anaconda3/lib/python3.7/site-packages (from tensorflow) (0.2.2)\n",
      "Requirement already satisfied: protobuf>=3.6.1 in /opt/anaconda3/lib/python3.7/site-packages (from tensorflow) (3.11.3)\n",
      "Requirement already satisfied: wheel>=0.26 in /opt/anaconda3/lib/python3.7/site-packages (from tensorflow) (0.33.6)\n",
      "Requirement already satisfied: wrapt>=1.11.1 in /opt/anaconda3/lib/python3.7/site-packages (from tensorflow) (1.12.1)\n",
      "Requirement already satisfied: opt-einsum>=2.3.2 in /opt/anaconda3/lib/python3.7/site-packages (from tensorflow) (3.2.0)\n",
      "Requirement already satisfied: h5py in /opt/anaconda3/lib/python3.7/site-packages (from keras-applications>=1.0.8->tensorflow) (2.10.0)\n",
      "Requirement already satisfied: werkzeug>=0.11.15 in /opt/anaconda3/lib/python3.7/site-packages (from tensorboard<1.16.0,>=1.15.0->tensorflow) (1.0.1)\n",
      "Requirement already satisfied: setuptools>=41.0.0 in /opt/anaconda3/lib/python3.7/site-packages (from tensorboard<1.16.0,>=1.15.0->tensorflow) (41.4.0)\n",
      "Requirement already satisfied: markdown>=2.6.8 in /opt/anaconda3/lib/python3.7/site-packages (from tensorboard<1.16.0,>=1.15.0->tensorflow) (3.2.1)\n"
     ]
    }
   ],
   "source": [
    "#!pip install keras\n",
    "!pip install tensorflow"
   ]
  },
  {
   "cell_type": "code",
   "execution_count": 24,
   "metadata": {},
   "outputs": [],
   "source": [
    "x_train = x_train.reshape(2335,3000,1)\n",
    "x_test = x_test.reshape(260,3000,1)"
   ]
  },
  {
   "cell_type": "code",
   "execution_count": 25,
   "metadata": {},
   "outputs": [
    {
     "name": "stdout",
     "output_type": "stream",
     "text": [
      "Epoch 1/3\n",
      "9/9 [==============================] - 35s 3s/step - loss: 0.7269 - accuracy: 0.1699\n",
      "Epoch 2/3\n",
      "9/9 [==============================] - 30s 3s/step - loss: 0.2609 - accuracy: 0.8240\n",
      "Epoch 3/3\n",
      "9/9 [==============================] - 30s 3s/step - loss: 0.1491 - accuracy: 0.8579\n"
     ]
    },
    {
     "data": {
      "text/plain": [
       "<tensorflow.python.keras.callbacks.History at 0x7fe5f5f0b950>"
      ]
     },
     "execution_count": 25,
     "metadata": {},
     "output_type": "execute_result"
    }
   ],
   "source": [
    "from keras.models import Sequential\n",
    "from keras.layers import Dense\n",
    "from keras.layers import LSTM\n",
    "from keras.layers import Dropout\n",
    "\n",
    "# Initialising the RNN\n",
    "regressor = Sequential()\n",
    "\n",
    "# Adding the first LSTM layer and some Dropout regularisation\n",
    "regressor.add(LSTM(units = 50, return_sequences = True, input_shape = (x_train.shape[1], 1)))\n",
    "regressor.add(Dropout(0.2))\n",
    "\n",
    "# Adding a second LSTM layer and some Dropout regularisation\n",
    "regressor.add(LSTM(units = 50, return_sequences = True))\n",
    "regressor.add(Dropout(0.2))\n",
    "\n",
    "# Adding a third LSTM layer and some Dropout regularisation\n",
    "regressor.add(LSTM(units = 50, return_sequences = True))\n",
    "regressor.add(Dropout(0.2))\n",
    "\n",
    "# Adding a fourth LSTM layer and some Dropout regularisation\n",
    "regressor.add(LSTM(units = 50))\n",
    "regressor.add(Dropout(0.2))\n",
    "\n",
    "# Adding the output layer\n",
    "regressor.add(Dense(units = 1))\n",
    "\n",
    "# Compiling the RNN\n",
    "regressor.compile(optimizer = 'adam', loss = 'mean_squared_error',metrics=[\"accuracy\"])\n",
    "\n",
    "# Fitting the RNN to the Training set\n",
    "regressor.fit(x_test, y_test, epochs = 3, batch_size = 32)"
   ]
  },
  {
   "cell_type": "code",
   "execution_count": 18,
   "metadata": {},
   "outputs": [
    {
     "name": "stdout",
     "output_type": "stream",
     "text": [
      "2.4.1\n"
     ]
    }
   ],
   "source": [
    "import tensorflow as tf\n",
    "print(tf.__version__)"
   ]
  },
  {
   "cell_type": "code",
   "execution_count": null,
   "metadata": {},
   "outputs": [],
   "source": []
  }
 ],
 "metadata": {
  "kernelspec": {
   "display_name": "Python 3",
   "language": "python",
   "name": "python3"
  },
  "language_info": {
   "codemirror_mode": {
    "name": "ipython",
    "version": 3
   },
   "file_extension": ".py",
   "mimetype": "text/x-python",
   "name": "python",
   "nbconvert_exporter": "python",
   "pygments_lexer": "ipython3",
   "version": "3.7.4"
  }
 },
 "nbformat": 4,
 "nbformat_minor": 2
}
