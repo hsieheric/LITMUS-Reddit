{
 "cells": [
  {
   "cell_type": "markdown",
   "metadata": {},
   "source": [
    "# LITMUS-Based COVID-19 Misinformation Classification\n",
    "## Eric Hsieh and Dongsuk Lim\n",
    "### CS 6353 Spring 2021"
   ]
  },
  {
   "cell_type": "code",
   "execution_count": 1,
   "metadata": {},
   "outputs": [
    {
     "name": "stdout",
     "output_type": "stream",
     "text": [
      "['post_data.csv', 'post_data_full.csv', '.DS_Store', 'saved_model', 'data_collect.py', 'Applying Kaggle Spam Detection Model to Our Data.ipynb', 'data_mining.ipynb', 'wc_misinf.png', 'README.md', 'enterprise_app', 'Covid_Classification.ipynb', '.ipynb_checkpoints', '.git', 'post_data_source.csv', 'wc_inf.png']\n"
     ]
    }
   ],
   "source": [
    "import numpy as np # linear algebra\n",
    "import pandas as pd # data processing, CSV file I/O (e.g. pd.read_csv)\n",
    "import os\n",
    "print(os.listdir(\".\"))"
   ]
  },
  {
   "cell_type": "code",
   "execution_count": 2,
   "metadata": {},
   "outputs": [
    {
     "name": "stderr",
     "output_type": "stream",
     "text": [
      "Using TensorFlow backend.\n"
     ]
    }
   ],
   "source": [
    "from sklearn.feature_extraction.text import CountVectorizer\n",
    "from sklearn.preprocessing import LabelEncoder\n",
    "from sklearn.model_selection import train_test_split\n",
    "from sklearn.naive_bayes import MultinomialNB\n",
    "import re\n",
    "import tensorflow as tf\n",
    "from keras.models import Sequential\n",
    "from keras.layers import Dense, LSTM, Dropout, Embedding, Flatten, SimpleRNN, GRU"
   ]
  },
  {
   "cell_type": "code",
   "execution_count": 3,
   "metadata": {},
   "outputs": [],
   "source": [
    "data = pd.read_csv(\"post_data_full.csv\")"
   ]
  },
  {
   "cell_type": "code",
   "execution_count": 4,
   "metadata": {},
   "outputs": [],
   "source": [
    "#Drop unnecessary columns \n",
    "data = data.drop(columns=['url', 'subreddit', 'score', 'permalink','Source'])"
   ]
  },
  {
   "cell_type": "code",
   "execution_count": 5,
   "metadata": {},
   "outputs": [
    {
     "data": {
      "text/html": [
       "<div>\n",
       "<style scoped>\n",
       "    .dataframe tbody tr th:only-of-type {\n",
       "        vertical-align: middle;\n",
       "    }\n",
       "\n",
       "    .dataframe tbody tr th {\n",
       "        vertical-align: top;\n",
       "    }\n",
       "\n",
       "    .dataframe thead th {\n",
       "        text-align: right;\n",
       "    }\n",
       "</style>\n",
       "<table border=\"1\" class=\"dataframe\">\n",
       "  <thead>\n",
       "    <tr style=\"text-align: right;\">\n",
       "      <th></th>\n",
       "      <th>class</th>\n",
       "      <th>title</th>\n",
       "    </tr>\n",
       "  </thead>\n",
       "  <tbody>\n",
       "    <tr>\n",
       "      <th>0</th>\n",
       "      <td>1</td>\n",
       "      <td>COVID-19: Cases of vaccine-resistant variant m...</td>\n",
       "    </tr>\n",
       "    <tr>\n",
       "      <th>1</th>\n",
       "      <td>1</td>\n",
       "      <td>Should A COVID Vaccine Be Part Of The Back-To-...</td>\n",
       "    </tr>\n",
       "    <tr>\n",
       "      <th>2</th>\n",
       "      <td>1</td>\n",
       "      <td>UK hits 30 million first vaccine doses - 57% o...</td>\n",
       "    </tr>\n",
       "    <tr>\n",
       "      <th>3</th>\n",
       "      <td>1</td>\n",
       "      <td>EU medical regulator says AstraZeneca COVID va...</td>\n",
       "    </tr>\n",
       "    <tr>\n",
       "      <th>4</th>\n",
       "      <td>1</td>\n",
       "      <td>Moderna begins testing next-generation coronav...</td>\n",
       "    </tr>\n",
       "  </tbody>\n",
       "</table>\n",
       "</div>"
      ],
      "text/plain": [
       "   class                                              title\n",
       "0      1  COVID-19: Cases of vaccine-resistant variant m...\n",
       "1      1  Should A COVID Vaccine Be Part Of The Back-To-...\n",
       "2      1  UK hits 30 million first vaccine doses - 57% o...\n",
       "3      1  EU medical regulator says AstraZeneca COVID va...\n",
       "4      1  Moderna begins testing next-generation coronav..."
      ]
     },
     "execution_count": 5,
     "metadata": {},
     "output_type": "execute_result"
    }
   ],
   "source": [
    "data.head()"
   ]
  },
  {
   "cell_type": "code",
   "execution_count": 6,
   "metadata": {},
   "outputs": [],
   "source": [
    "def normalize_text(s):\n",
    "    s = s.lower()\n",
    "    # remove punctuation that is not word-internal (e.g., hyphens, apostrophes)\n",
    "    s = re.sub('\\s\\W',' ',s)\n",
    "    s = re.sub('\\W\\s',' ',s)\n",
    "    # make sure we didn't introduce any double spaces\n",
    "    s = re.sub('\\s+',' ',s)\n",
    "    return s"
   ]
  },
  {
   "cell_type": "code",
   "execution_count": 7,
   "metadata": {},
   "outputs": [],
   "source": [
    "# Normalize Titles\n",
    "data['text'] = [normalize_text(s) for s in data['title']]"
   ]
  },
  {
   "cell_type": "code",
   "execution_count": 8,
   "metadata": {},
   "outputs": [],
   "source": [
    "sentences_train, sentences_test, classes_train, classes_test = train_test_split(\n",
    "    data['text'], data['class'], test_size=0.2, random_state=1000)"
   ]
  },
  {
   "cell_type": "code",
   "execution_count": 10,
   "metadata": {},
   "outputs": [
    {
     "data": {
      "text/plain": [
       "0.8940269749518305"
      ]
     },
     "execution_count": 10,
     "metadata": {},
     "output_type": "execute_result"
    }
   ],
   "source": [
    "# Multinomial Naive Bayes\n",
    "\n",
    "vectorizer = CountVectorizer()\n",
    "vectorizer.fit(sentences_train)\n",
    "x_train = vectorizer.transform(sentences_train)\n",
    "x_test = vectorizer.transform(sentences_test)\n",
    "\n",
    "encoder = LabelEncoder()\n",
    "encoder.fit(classes_train)\n",
    "y_train = encoder.transform(classes_train)\n",
    "y_test = encoder.transform(classes_test)\n",
    "\n",
    "nb = MultinomialNB()\n",
    "nb.fit(x_train, classes_train)\n",
    "nb.score(x_test, classes_test)"
   ]
  },
  {
   "cell_type": "code",
   "execution_count": 11,
   "metadata": {},
   "outputs": [],
   "source": [
    "from keras.preprocessing.text import Tokenizer\n",
    "from keras.preprocessing.sequence import pad_sequences\n",
    "\n",
    "tokenizer = Tokenizer(num_words=5000)\n",
    "tokenizer.fit_on_texts(sentences_train)\n",
    "\n",
    "x_train_tok = tokenizer.texts_to_sequences(sentences_train)\n",
    "x_test_tok = tokenizer.texts_to_sequences(sentences_test)\n",
    "\n",
    "vocab_size = len(tokenizer.word_index) + 1\n",
    "\n",
    "maxlen = 50\n",
    "x_train_tok = pad_sequences(x_train_tok, padding='post', maxlen=maxlen)\n",
    "x_test_tok = pad_sequences(x_test_tok, padding='post', maxlen=maxlen)"
   ]
  },
  {
   "cell_type": "code",
   "execution_count": 12,
   "metadata": {},
   "outputs": [
    {
     "name": "stdout",
     "output_type": "stream",
     "text": [
      "WARNING:tensorflow:From /Users/ehsieh/anaconda3/lib/python3.7/site-packages/tensorflow_core/python/ops/resource_variable_ops.py:1630: calling BaseResourceVariable.__init__ (from tensorflow.python.ops.resource_variable_ops) with constraint is deprecated and will be removed in a future version.\n",
      "Instructions for updating:\n",
      "If using Keras pass *_constraint arguments to layers.\n",
      "WARNING:tensorflow:From /Users/ehsieh/anaconda3/lib/python3.7/site-packages/tensorflow_core/python/ops/nn_impl.py:183: where (from tensorflow.python.ops.array_ops) is deprecated and will be removed in a future version.\n",
      "Instructions for updating:\n",
      "Use tf.where in 2.0, which has the same broadcast rule as np.where\n"
     ]
    }
   ],
   "source": [
    "#Tensorflow\n",
    "tf.set_random_seed(1)\n",
    "\n",
    "embedding_dim = 50\n",
    "\n",
    "model = Sequential()\n",
    "model.add(Embedding(input_dim=vocab_size, output_dim=embedding_dim, input_length=maxlen))\n",
    "model.add(Flatten())\n",
    "model.add(Dense(64, activation='relu'))\n",
    "model.add(Dense(1, activation='sigmoid'))\n",
    "model.compile(optimizer='adam', loss='binary_crossentropy', metrics=['accuracy'])"
   ]
  },
  {
   "cell_type": "code",
   "execution_count": 13,
   "metadata": {},
   "outputs": [
    {
     "name": "stdout",
     "output_type": "stream",
     "text": [
      "WARNING:tensorflow:From /Users/ehsieh/anaconda3/lib/python3.7/site-packages/keras/backend/tensorflow_backend.py:422: The name tf.global_variables is deprecated. Please use tf.compat.v1.global_variables instead.\n",
      "\n",
      "Train on 2076 samples, validate on 519 samples\n",
      "Epoch 1/5\n",
      "2076/2076 [==============================] - 1s 451us/step - loss: 0.3556 - accuracy: 0.8849 - val_loss: 0.3390 - val_accuracy: 0.8863\n",
      "Epoch 2/5\n",
      "2076/2076 [==============================] - 1s 339us/step - loss: 0.1862 - accuracy: 0.9239 - val_loss: 0.3630 - val_accuracy: 0.8844\n",
      "Epoch 3/5\n",
      "2076/2076 [==============================] - 1s 351us/step - loss: 0.0377 - accuracy: 0.9913 - val_loss: 0.4646 - val_accuracy: 0.8825\n",
      "Epoch 4/5\n",
      "2076/2076 [==============================] - 1s 376us/step - loss: 0.0179 - accuracy: 0.9961 - val_loss: 0.4840 - val_accuracy: 0.8613\n",
      "Epoch 5/5\n",
      "2076/2076 [==============================] - 1s 333us/step - loss: 0.0115 - accuracy: 0.9971 - val_loss: 0.5211 - val_accuracy: 0.8940\n"
     ]
    }
   ],
   "source": [
    "history = model.fit(x_train_tok, y_train, epochs=5, validation_data=(x_test_tok, y_test), batch_size=8)"
   ]
  },
  {
   "cell_type": "code",
   "execution_count": 14,
   "metadata": {},
   "outputs": [
    {
     "name": "stdout",
     "output_type": "stream",
     "text": [
      "2076/2076 [==============================] - 0s 28us/step\n",
      "Training Accuracy: 0.9976\n",
      "519/519 [==============================] - 0s 20us/step\n",
      "Testing Accuracy:  0.8940\n"
     ]
    }
   ],
   "source": [
    "loss, accuracy = model.evaluate(x_train_tok, y_train)\n",
    "print(\"Training Accuracy: {:.4f}\".format(accuracy))\n",
    "loss, accuracy = model.evaluate(x_test_tok, y_test)\n",
    "print(\"Testing Accuracy:  {:.4f}\".format(accuracy))"
   ]
  },
  {
   "cell_type": "code",
   "execution_count": 15,
   "metadata": {},
   "outputs": [],
   "source": [
    "model.save('saved_model')"
   ]
  }
 ],
 "metadata": {
  "kernelspec": {
   "display_name": "Python 3",
   "language": "python",
   "name": "python3"
  },
  "language_info": {
   "codemirror_mode": {
    "name": "ipython",
    "version": 3
   },
   "file_extension": ".py",
   "mimetype": "text/x-python",
   "name": "python",
   "nbconvert_exporter": "python",
   "pygments_lexer": "ipython3",
   "version": "3.7.3"
  }
 },
 "nbformat": 4,
 "nbformat_minor": 2
}
